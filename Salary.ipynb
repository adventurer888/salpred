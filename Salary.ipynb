{
 "cells": [
  {
   "cell_type": "markdown",
   "id": "8fb63412-4f8a-468f-9e3b-28c76c355084",
   "metadata": {},
   "source": [
    "Actual data mapping YearsExperience to Salary:"
   ]
  },
  {
   "cell_type": "code",
   "execution_count": 81,
   "id": "e3f69802-fcfe-4f98-b066-77e6c325a2e9",
   "metadata": {
    "tags": []
   },
   "outputs": [
    {
     "data": {
      "text/html": [
       "\n",
       "<script src=\"https://cdnjs.cloudflare.com/ajax/libs/require.js/2.1.10/require.min.js\"></script>\n",
       "<script src=\"https://cdnjs.cloudflare.com/ajax/libs/jquery/2.0.3/jquery.min.js\"></script>\n"
      ],
      "text/plain": [
       "<IPython.core.display.HTML object>"
      ]
     },
     "metadata": {},
     "output_type": "display_data"
    },
    {
     "data": {
      "application/javascript": [
       "require.config({\n",
       "    paths: {\n",
       "        datatables: 'https://cdn.datatables.net/1.10.19/js/jquery.dataTables.min',\n",
       "    }\n",
       "});\n",
       "\n",
       "$('head').append('<link rel=\"stylesheet\" type=\"text/css\" \\\n",
       "                href = \"https://cdn.datatables.net/1.10.19/css/jquery.dataTables.min.css\" > ');\n",
       "\n",
       "$('head').append('<style> table td { text-overflow: ellipsis; overflow: hidden; } </style>');\n",
       "\n",
       "$('head').append(`<script>\n",
       "function eval_functions(map_or_text) {\n",
       "    if (typeof map_or_text === \"string\") {\n",
       "        if (map_or_text.startsWith(\"function\")) {\n",
       "            try {\n",
       "                // Note: parenthesis are required around the whole expression for eval to return a value!\n",
       "                // See https://stackoverflow.com/a/7399078/911298.\n",
       "                //\n",
       "                // eval(\"local_fun = \" + map_or_text) would fail because local_fun is not declared\n",
       "                // (using var, let or const would work, but it would only be declared in the local scope\n",
       "                // and therefore the value could not be retrieved).\n",
       "                const func = eval(\"(\" + map_or_text + \")\");\n",
       "                if (typeof func !== \"function\") {\n",
       "                    // Note: backquotes are super convenient!\n",
       "                    // https://developer.mozilla.org/en-US/docs/Web/JavaScript/Reference/Template_literals\n",
       "                    console.error(\"Evaluated expression \" + map_or_text + \" is not a function (type is \" + typeof func + \")\");\n",
       "                    return map_or_text;\n",
       "                }\n",
       "                // Return the function\n",
       "                return func;\n",
       "            } catch (e) {\n",
       "                // Make sure to print the error with a second argument to console.error().\n",
       "                console.error(\"itables was not able to parse \" + map_or_text, e);\n",
       "            }\n",
       "        }\n",
       "    } else if (typeof map_or_text === \"object\") {\n",
       "        if (map_or_text instanceof Array) {\n",
       "            // Note: \"var\" is now superseded by \"let\" and \"const\".\n",
       "            // https://medium.com/javascript-scene/javascript-es6-var-let-or-const-ba58b8dcde75\n",
       "            const result = [];\n",
       "            // Note: \"for of\" is the best way to iterate through an iterable.\n",
       "            // https://developer.mozilla.org/en-US/docs/Web/JavaScript/Reference/Statements/for...of\n",
       "            for (const item of map_or_text) {\n",
       "                result.push(eval_functions(item));\n",
       "            }\n",
       "            return result;\n",
       "\n",
       "            // Alternatively, more functional approach in one line:\n",
       "            // return map_or_text.map(eval_functions);\n",
       "        } else {\n",
       "            const result = {};\n",
       "            // Object.keys() is safer than \"for in\" because otherwise you might have keys\n",
       "            // that aren't defined in the object itself.\n",
       "            //\n",
       "            // See https://stackoverflow.com/a/684692/911298.\n",
       "            for (const item of Object.keys(map_or_text)) {\n",
       "                result[item] = eval_functions(map_or_text[item]);\n",
       "            }\n",
       "            return result;\n",
       "        }\n",
       "    }\n",
       "\n",
       "    return map_or_text;\n",
       "}\n",
       "\n",
       "</` + 'script>');"
      ],
      "text/plain": [
       "<IPython.core.display.Javascript object>"
      ]
     },
     "metadata": {},
     "output_type": "display_data"
    },
    {
     "data": {
      "text/html": [
       "<div><table id=\"edf52073-d389-4c05-99cf-383e3517466a\" class=\"display\"><thead>\n",
       "    <tr style=\"text-align: right;\">\n",
       "      \n",
       "      <th>YearsExperience</th>\n",
       "      <th>Salary</th>\n",
       "    </tr>\n",
       "  </thead></table>\n",
       "<script type=\"text/javascript\">\n",
       "require([\"datatables\"], function (datatables) {\n",
       "    $(document).ready(function () {\n",
       "        var dt_args = {\"columnDefs\": [{\"width\": \"70px\", \"targets\": \"_all\"}], \"data\": [[1.1, 39343.0], [1.3, 46205.0], [1.5, 37731.0], [2.0, 43525.0], [2.2, 39891.0], [2.9, 56642.0], [3.0, 60150.0], [3.2, 54445.0], [3.2, 64445.0], [3.7, 57189.0], [3.9, 63218.0], [4.0, 55794.0], [4.0, 56957.0], [4.1, 57081.0], [4.5, 61111.0], [4.9, 67938.0], [5.1, 66029.0], [5.3, 83088.0], [5.9, 81363.0], [6.0, 93940.0], [6.8, 91738.0], [7.1, 98273.0], [7.9, 101302.0], [8.2, 113812.0], [8.7, 109431.0], [9.0, 105582.0], [9.5, 116969.0], [9.6, 112635.0], [10.3, 122391.0], [10.5, 121872.0], [11.2, 127345.0], [11.5, 126756.0], [12.3, 128765.0], [12.9, 135675.0], [13.5, 139465.0]]};\n",
       "        dt_args = eval_functions(dt_args);\n",
       "        table = $('#edf52073-d389-4c05-99cf-383e3517466a').DataTable(dt_args);\n",
       "    });\n",
       "})\n",
       "</script>\n",
       "</div>\n"
      ],
      "text/plain": [
       "    YearsExperience  Salary\n",
       "0               1.1   39343\n",
       "1               1.3   46205\n",
       "2               1.5   37731\n",
       "3               2.0   43525\n",
       "4               2.2   39891\n",
       "5               2.9   56642\n",
       "6               3.0   60150\n",
       "7               3.2   54445\n",
       "8               3.2   64445\n",
       "9               3.7   57189\n",
       "10              3.9   63218\n",
       "11              4.0   55794\n",
       "12              4.0   56957\n",
       "13              4.1   57081\n",
       "14              4.5   61111\n",
       "15              4.9   67938\n",
       "16              5.1   66029\n",
       "17              5.3   83088\n",
       "18              5.9   81363\n",
       "19              6.0   93940\n",
       "20              6.8   91738\n",
       "21              7.1   98273\n",
       "22              7.9  101302\n",
       "23              8.2  113812\n",
       "24              8.7  109431\n",
       "25              9.0  105582\n",
       "26              9.5  116969\n",
       "27              9.6  112635\n",
       "28             10.3  122391\n",
       "29             10.5  121872\n",
       "30             11.2  127345\n",
       "31             11.5  126756\n",
       "32             12.3  128765\n",
       "33             12.9  135675\n",
       "34             13.5  139465"
      ]
     },
     "execution_count": 81,
     "metadata": {},
     "output_type": "execute_result"
    }
   ],
   "source": [
    "import ipywidgets\n",
    "import numpy as np\n",
    "import pandas as pd\n",
    "\n",
    "from IPython.display import HTML, display\n",
    "\n",
    "from itables import init_notebook_mode\n",
    "from matplotlib import pyplot as plt\n",
    "from time import sleep\n",
    "\n",
    "display(HTML(\"\"\"\n",
    "<script src=\"https://cdnjs.cloudflare.com/ajax/libs/require.js/2.1.10/require.min.js\"></script>\n",
    "<script src=\"https://cdnjs.cloudflare.com/ajax/libs/jquery/2.0.3/jquery.min.js\"></script>\n",
    "\"\"\"))\n",
    "\n",
    "sleep(0.1)\n",
    "init_notebook_mode(all_interactive=True)\n",
    "\n",
    "data = pd.read_csv('Salary.csv')\n",
    "data"
   ]
  },
  {
   "cell_type": "code",
   "execution_count": 82,
   "id": "0dc2137a-67ba-4167-9b2d-9d1030242189",
   "metadata": {},
   "outputs": [
    {
     "data": {
      "image/png": "[encoded data removed]",
      "text/plain": [
       "<Figure size 432x288 with 1 Axes>"
      ]
     },
     "metadata": {
      "needs_background": "light"
     },
     "output_type": "display_data"
    }
   ],
   "source": [
    "plt.plot(data['YearsExperience'], data['Salary'], 'ro')\n",
    "plt.title('Actual')\n",
    "plt.xlabel('YearsExperience')\n",
    "plt.ylabel('Salary')\n",
    "plt.show()"
   ]
  },
  {
   "cell_type": "markdown",
   "id": "2ded137a-d5f4-491a-b72d-44d3e8a50297",
   "metadata": {
    "tags": []
   },
   "source": [
    "Using the Objective of Least Squares (OLS) method, we will find a and b values to complete our linear regression formula y = a + b * x.\n",
    "\n",
    "1. Calculate the mean YearsExperience.\n",
    "2. Calculate the mean Salary.\n",
    "3. Calculate the covariance of of YearsExperience and Salary.\n",
    "4. Calculate the variance of YearsofExperience.\n",
    "5. Determine values for a and b for the formula y = a + b * x."
   ]
  },
  {
   "cell_type": "code",
   "execution_count": 83,
   "id": "39aa3c2b-b7b0-4bfe-a496-b15d1d768ad7",
   "metadata": {
    "tags": []
   },
   "outputs": [],
   "source": [
    "ye_mean = np.mean(data['YearsExperience'].to_list())"
   ]
  },
  {
   "cell_type": "code",
   "execution_count": 84,
   "id": "076b3e88-ef2f-400f-9f0f-80fb1e60bc53",
   "metadata": {},
   "outputs": [],
   "source": [
    "s_mean = np.mean(data['Salary'].to_list())"
   ]
  },
  {
   "cell_type": "code",
   "execution_count": 85,
   "id": "3a30ffaa-9c1a-45b7-9412-d43bcd222671",
   "metadata": {},
   "outputs": [],
   "source": [
    "cov = (data['YearsExperience'] - ye_mean) * (data['Salary'] - s_mean)"
   ]
  },
  {
   "cell_type": "code",
   "execution_count": 86,
   "id": "f0b802fb-9a43-4f52-ab9d-d0653ddb3957",
   "metadata": {},
   "outputs": [],
   "source": [
    "ye_var = (data['YearsExperience'] - ye_mean)**2"
   ]
  },
  {
   "cell_type": "code",
   "execution_count": 98,
   "id": "6111739a-521b-4dda-9217-1d12c1c817b7",
   "metadata": {},
   "outputs": [],
   "source": [
    "b = cov.sum() / ye_var.sum()"
   ]
  },
  {
   "cell_type": "code",
   "execution_count": 99,
   "id": "16fd3eaa-f1b0-4196-a582-5bc2ffb8d619",
   "metadata": {},
   "outputs": [],
   "source": [
    "a = s_mean - (b * ye_mean)"
   ]
  },
  {
   "cell_type": "markdown",
   "id": "d040571b-90d0-431c-a9f0-d63a6af5fac0",
   "metadata": {},
   "source": [
    "Our linear regression formula is:"
   ]
  },
  {
   "cell_type": "code",
   "execution_count": 100,
   "id": "d9aaad96-5207-4569-8814-f678edee150e",
   "metadata": {},
   "outputs": [
    {
     "name": "stdout",
     "output_type": "stream",
     "text": [
      "y = 28859.526194531456 + 8731.941047062495 * YearsExperience\n"
     ]
    }
   ],
   "source": [
    "y = a + b * data['YearsExperience']\n",
    "print(f'y = {a} + {b} * YearsExperience')"
   ]
  },
  {
   "cell_type": "code",
   "execution_count": 101,
   "id": "0c3aa964-594d-4356-8573-4a1f5332a65f",
   "metadata": {
    "tags": []
   },
   "outputs": [
    {
     "data": {
      "image/png": "[encoded data removed]",
      "text/plain": [
       "<Figure size 432x288 with 1 Axes>"
      ]
     },
     "metadata": {
      "needs_background": "light"
     },
     "output_type": "display_data"
    }
   ],
   "source": [
    "plt.plot(data['YearsExperience'], y)\n",
    "plt.plot(data['YearsExperience'], data['Salary'], 'ro')\n",
    "plt.title('Actual vs Predicted')\n",
    "plt.xlabel('YearsExperience')\n",
    "plt.ylabel('Salary')\n",
    "plt.show()"
   ]
  },
  {
   "cell_type": "markdown",
   "id": "849cffe2-3e27-449d-a723-f756d197d95f",
   "metadata": {},
   "source": [
    "As we can see, the predicted blue line appears to follow the actual data in a predictable, linear fashion.\n",
    "\n",
    "Salary Prediction, up to 50 years based on linear trend:"
   ]
  },
  {
   "cell_type": "code",
   "execution_count": null,
   "id": "b6f52bb2-2490-4937-b03c-d70dd6eb133d",
   "metadata": {},
   "outputs": [],
   "source": [
    "y_predicted = a + b * range(0, 51)\n",
    "\n",
    "caption = ipywidgets.Label(value='Select the number of years of experience from 0 to 50.')\n",
    "float_slider = ipywidgets.IntSlider(\n",
    "    value=0,\n",
    "    min=0,\n",
    "    max=50,\n",
    "    step=1,\n",
    "    description='Years Experience:',\n",
    "    disabled=False,\n",
    "    continuous_update=False,\n",
    "    orientation='horizontal',\n",
    "    readout=True,\n",
    "    readout_format='.0f',\n",
    "    layout={'width': '100%'},\n",
    ")\n",
    "output = ipywidgets.Output()\n",
    "display(float_slider, caption)\n",
    "\n",
    "def on_value_change(change):\n",
    "    with output:\n",
    "        caption.value = 'Predicted Salary: ${:,.0f}'.format(y_predicted[change['new']])\n",
    "\n",
    "float_slider.observe(on_value_change, names='value')"
   ]
  }
 ],
 "metadata": {
  "kernelspec": {
   "display_name": "Python 3 (ipykernel)",
   "language": "python",
   "name": "python3"
  },
  "language_info": {
   "codemirror_mode": {
    "name": "ipython",
    "version": 3
   },
   "file_extension": ".py",
   "mimetype": "text/x-python",
   "name": "python",
   "nbconvert_exporter": "python",
   "pygments_lexer": "ipython3",
   "version": "3.9.5"
  }
 },
 "nbformat": 4,
 "nbformat_minor": 5
}
